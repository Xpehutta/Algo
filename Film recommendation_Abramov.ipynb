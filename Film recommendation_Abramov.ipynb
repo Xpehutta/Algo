{
 "cells": [
  {
   "cell_type": "code",
   "execution_count": 5,
   "id": "252fbada",
   "metadata": {},
   "outputs": [
    {
     "data": {
      "text/plain": [
       "('movie_62629', 0.31136083602905273)"
      ]
     },
     "execution_count": 5,
     "metadata": {},
     "output_type": "execute_result"
    }
   ],
   "source": [
    "import random, numpy, math,time\n",
    "from collections import defaultdict\n",
    "\n",
    "\n",
    "def create_inputs(m = 10, k = 1):\n",
    "    N = m**k\n",
    "\n",
    "    user_list = ['F_' + str(i) for i in range(random.randint(3, 50))]     # list of friends\n",
    "    film_list = ['movie_' + str(i) for i in range(N)]                     # list of movies\n",
    "    film_pair_list = [random.sample(film_list, k = 2) for i in range(random.randrange(1, N))]  # edge list\n",
    "    list_film_seen = []\n",
    "    for i in user_list:\n",
    "        k = str(random.randrange(1, N)) \n",
    "        s = 'list_' + i + ' = ' + 'sorted(random.sample(film_list, k = ' + k + '))' # create lists of movies watched by friends \n",
    "        s2 = 'list_film_seen.append(list_' + i + ')'# expand the unsorted concatenated list of movies watched\n",
    "        exec(s)\n",
    "        exec(s2)\n",
    "    return user_list, film_list, film_pair_list, list_film_seen\n",
    "\n",
    "\n",
    "def _get_neighbors(pair_list):\n",
    "    \n",
    "    _neighbors = defaultdict(set)\n",
    "    \n",
    "    for i in pair_list:    \n",
    "        a, b = i[0], i[1]\n",
    "        _neighbors[a].add(b)\n",
    "        _neighbors[b].add(a)\n",
    "    return _neighbors\n",
    "\n",
    "\n",
    "def film_recommendation(user_list, film_list, film_pair_list, list_film_seen):\n",
    "    \n",
    "    ts = time.time()\n",
    "    \n",
    "    K = len(user_list) # number of friends\n",
    "    neighbors = _get_neighbors(film_pair_list)\n",
    "\n",
    "    all_film_seen_dic = dict() # dictionary of movies watched\n",
    "    \n",
    "    for i in list_film_seen:\n",
    "        for k in i:\n",
    "            if k in all_film_seen_dic:\n",
    "                all_film_seen_dic[k] += 1 \n",
    "            else:\n",
    "                all_film_seen_dic.setdefault(k, 1)\n",
    "    \n",
    "    F_S_list = []   \n",
    "\n",
    "    for i in film_list:\n",
    "        cnt = 0\n",
    "        if i in all_film_seen_dic:\n",
    "            for j in neighbors[i]:\n",
    "                cnt += all_film_seen_dic.get(j, 0)\n",
    "            if cnt == 0:\n",
    "                F_S_list.append(0)\n",
    "            else:\n",
    "                F_S_list.append(K*all_film_seen_dic.get(i, 0)/cnt) #F/S\n",
    "\n",
    "    F_S_array = numpy.array(F_S_list)\n",
    "\n",
    "    return film_list[numpy.argmax(F_S_array)], time.time() - ts\n",
    "\n",
    "user_list, film_list, film_pair_list, list_film_seen = create_inputs(10, 5)\n",
    "film_recommendation(user_list, film_list, film_pair_list, list_film_seen)"
   ]
  },
  {
   "cell_type": "code",
   "execution_count": null,
   "id": "521387f1",
   "metadata": {},
   "outputs": [],
   "source": []
  }
 ],
 "metadata": {
  "kernelspec": {
   "display_name": "Python 3",
   "language": "python",
   "name": "python3"
  },
  "language_info": {
   "codemirror_mode": {
    "name": "ipython",
    "version": 3
   },
   "file_extension": ".py",
   "mimetype": "text/x-python",
   "name": "python",
   "nbconvert_exporter": "python",
   "pygments_lexer": "ipython3",
   "version": "3.8.2"
  }
 },
 "nbformat": 4,
 "nbformat_minor": 5
}
